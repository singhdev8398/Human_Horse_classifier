{
 "cells": [
  {
   "cell_type": "code",
   "execution_count": null,
   "metadata": {},
   "outputs": [],
   "source": [
    "# Predict Horse or Human\n",
    " \n",
    "Here we are loading train CNN model to predict Given input (image) is Horse of Human\n",
    " \n",
    "# Import Libraries"
   ]
  },
  {
   "cell_type": "markdown",
   "metadata": {},
   "source": [
    "# Predict Horse or Human\n",
    " \n",
    "Here we are loading train CNN model to predict Given input (image) is Horse of Human\n",
    " \n",
    "# Import Libraries"
   ]
  },
  {
   "cell_type": "code",
   "execution_count": 1,
   "metadata": {},
   "outputs": [],
   "source": [
    "import numpy as np\n",
    " \n",
    "import keras \n",
    "from keras.preprocessing.image import ImageDataGenerator"
   ]
  },
  {
   "cell_type": "markdown",
   "metadata": {},
   "source": [
    " Import Model"
   ]
  },
  {
   "cell_type": "code",
   "execution_count": 39,
   "metadata": {},
   "outputs": [],
   "source": [
    "model_path1 = 'C:\\\\Users\\\\ASUS\\\\DEEP Learning Project\\\\Horse or Human classification using cnn\\\\horse_or_human_predictor.h5' #new model.ipynb\n",
    "model_path2 = 'C:\\\\Users\\\\ASUS\\\\DEEP Learning Project\\\\Horse or Human classification using cnn\\\\horse_or_human_predictor_v1.h5' #v2 solve overfitting Horse_or_human Classification using CNN.ipynb\n",
    "#model_path3 = 'C:\\\\Users\\\\ASUS\\\\DEEP Learning Project\\\\Horse or Human classification using cnn\\\\horse_human_cnn_model_v2_1.h5' #v2 solve overfitting Horse_or_human Classification using CNN.ipynb"
   ]
  },
  {
   "cell_type": "code",
   "execution_count": 40,
   "metadata": {},
   "outputs": [],
   "source": [
    "model1 = keras.models.load_model(model_path1)\n",
    "model2 = keras.models.load_model(model_path2)\n"
   ]
  },
  {
   "cell_type": "markdown",
   "metadata": {},
   "source": [
    "Preprocessing"
   ]
  },
  {
   "cell_type": "markdown",
   "metadata": {},
   "source": [
    "horse image path"
   ]
  },
  {
   "cell_type": "code",
   "execution_count": 41,
   "metadata": {},
   "outputs": [],
   "source": [
    "h1='C:\\\\Users\\\\ASUS\\\\DEEP Learning Project\\\\Horse or Human classification using cnn\\\\horse& human test data\\\\h1.jpg'\n",
    "h2='C:\\\\Users\\\\ASUS\\\\DEEP Learning Project\\\\Horse or Human classification using cnn\\\\horse& human test data\\\\h2.jpg'\n",
    "h3='C:\\\\Users\\\\ASUS\\\\DEEP Learning Project\\\\Horse or Human classification using cnn\\\\horse& human test data\\\\h3.jpg'\n",
    "h4='C:\\\\Users\\\\ASUS\\\\DEEP Learning Project\\\\Horse or Human classification using cnn\\\\horse& human test data\\\\h4.jpg'\n",
    "h5='C:\\\\Users\\\\ASUS\\\\DEEP Learning Project\\\\Horse or Human classification using cnn\\\\horse& human test data\\\\h5.jpg'"
   ]
  },
  {
   "cell_type": "markdown",
   "metadata": {},
   "source": [
    "Human image path\n"
   ]
  },
  {
   "cell_type": "code",
   "execution_count": 42,
   "metadata": {},
   "outputs": [],
   "source": [
    "hum1='C:\\\\Users\\\\ASUS\\\\DEEP Learning Project\\\\Horse or Human classification using cnn\\\\horse& human test data\\\\hum1.jpg'\n",
    "hum2='C:\\\\Users\\\\ASUS\\\\DEEP Learning Project\\\\Horse or Human classification using cnn\\\\horse& human test data\\\\hum2.jpg'\n",
    "hum3='C:\\\\Users\\\\ASUS\\\\DEEP Learning Project\\\\Horse or Human classification using cnn\\\\horse& human test data\\\\hum3.jpg'\n",
    "hum4='C:\\\\Users\\\\ASUS\\\\DEEP Learning Project\\\\Horse or Human classification using cnn\\\\horse& human test data\\\\hum4.jpg'\n",
    "hum5='C:\\\\Users\\\\ASUS\\\\DEEP Learning Project\\\\Horse or Human classification using cnn\\\\horse& human test data\\\\hum5.jpg'\n",
    "hum6='C:\\\\Users\\\\ASUS\\\\DEEP Learning Project\\\\Horse or Human classification using cnn\\\\horse& human test data\\\\hum6.jpg'"
   ]
  },
  {
   "cell_type": "code",
   "execution_count": 43,
   "metadata": {},
   "outputs": [],
   "source": [
    "import numpy as np\n",
    "from keras.preprocessing import image"
   ]
  },
  {
   "cell_type": "code",
   "execution_count": 44,
   "metadata": {},
   "outputs": [],
   "source": [
    "def pred_human_horse(model, horse_or_human):\n",
    "  test_image = image.load_img(horse_or_human, target_size = (150, 150))\n",
    "  test_image = image.img_to_array(test_image)/255\n",
    "  test_image = np.expand_dims(test_image, axis = 0)\n",
    "\n",
    "  result = model.predict(test_image).round(3)\n",
    "  pred = np.argmax(result)\n",
    "  print(result, \"--->>>\", pred)\n",
    " \n",
    "  if pred == 0:\n",
    "    print('Predicted>>> Horse')\n",
    "  else:\n",
    "    print('Predicted>>> Human')"
   ]
  },
  {
   "cell_type": "code",
   "execution_count": 45,
   "metadata": {},
   "outputs": [
    {
     "name": "stdout",
     "output_type": "stream",
     "text": [
      "1/1 [==============================] - 1s 820ms/step\n",
      "[[0.972 0.028]] --->>> 0\n",
      "Predicted>>> Horse\n",
      "1/1 [==============================] - 0s 90ms/step\n",
      "[[0.743 0.257]] --->>> 0\n",
      "Predicted>>> Horse\n",
      "1/1 [==============================] - 0s 116ms/step\n",
      "[[0. 1.]] --->>> 1\n",
      "Predicted>>> Human\n",
      "1/1 [==============================] - 0s 39ms/step\n",
      "[[0.791 0.209]] --->>> 0\n",
      "Predicted>>> Horse\n",
      "1/1 [==============================] - 0s 36ms/step\n",
      "[[0. 1.]] --->>> 1\n",
      "Predicted>>> Human\n",
      "1/1 [==============================] - 0s 41ms/step\n",
      "[[0. 1.]] --->>> 1\n",
      "Predicted>>> Human\n",
      "1/1 [==============================] - 0s 252ms/step\n",
      "[[0. 1.]] --->>> 1\n",
      "Predicted>>> Human\n",
      "1/1 [==============================] - 0s 294ms/step\n",
      "[[0.405 0.595]] --->>> 1\n",
      "Predicted>>> Human\n",
      "1/1 [==============================] - 0s 375ms/step\n",
      "[[0.901 0.099]] --->>> 0\n",
      "Predicted>>> Horse\n",
      "1/1 [==============================] - 0s 101ms/step\n",
      "[[0.007 0.993]] --->>> 1\n",
      "Predicted>>> Human\n",
      "1/1 [==============================] - 0s 112ms/step\n",
      "[[0.787 0.213]] --->>> 0\n",
      "Predicted>>> Horse\n"
     ]
    }
   ],
   "source": [
    "\"\"\"## Predict Output\"\"\"\n",
    " \n",
    "for horse_or_human in [h1,h2,h3,h4,h5, hum1,hum2,hum3,hum4,hum5,hum6]:\n",
    "  pred_human_horse(model2, horse_or_human)"
   ]
  },
  {
   "cell_type": "code",
   "execution_count": null,
   "metadata": {},
   "outputs": [],
   "source": []
  },
  {
   "cell_type": "code",
   "execution_count": null,
   "metadata": {},
   "outputs": [],
   "source": []
  }
 ],
 "metadata": {
  "kernelspec": {
   "display_name": "Python 3",
   "language": "python",
   "name": "python3"
  },
  "language_info": {
   "codemirror_mode": {
    "name": "ipython",
    "version": 3
   },
   "file_extension": ".py",
   "mimetype": "text/x-python",
   "name": "python",
   "nbconvert_exporter": "python",
   "pygments_lexer": "ipython3",
   "version": "3.11.2"
  }
 },
 "nbformat": 4,
 "nbformat_minor": 2
}
